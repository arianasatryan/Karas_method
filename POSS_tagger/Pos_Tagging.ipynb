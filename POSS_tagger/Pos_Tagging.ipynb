{
 "cells": [
  {
   "cell_type": "code",
   "execution_count": 1,
   "metadata": {},
   "outputs": [],
   "source": [
    "from nltk.tag.perceptron import PerceptronTagger\n",
    "import pyconll\n",
    "PICKLE = \"averaged_perceptron_tagger.pickle\""
   ]
  },
  {
   "cell_type": "code",
   "execution_count": 6,
   "metadata": {},
   "outputs": [],
   "source": [
    "def get_sents(data):\n",
    "    tok_of_sent=[]\n",
    "    sents=[]\n",
    "    for sentence in data:\n",
    "        for token in sentence:\n",
    "            if token.upos is not None:\n",
    "                tok_of_sent.append((token.form, token.upos))\n",
    "        sents.append(tok_of_sent)\n",
    "        tok_of_sent=[]\n",
    "    return sents"
   ]
  },
  {
   "cell_type": "code",
   "execution_count": 7,
   "metadata": {},
   "outputs": [],
   "source": [
    "UD_ARM_TRAIN = 'hy_armtdp-ud-train.conllu'\n",
    "UD_ARM_TEST = './hy_armtdp-ud-test.conllu'\n",
    "train = pyconll.load_from_file(UD_ARM_TRAIN)\n",
    "test = pyconll.load_from_file(UD_ARM_TEST)\n",
    "train_sents = get_sents(train)\n",
    "test_sents = get_sents(test)"
   ]
  },
  {
   "cell_type": "code",
   "execution_count": 8,
   "metadata": {},
   "outputs": [],
   "source": [
    "def _get_pretrain_model():\n",
    "    pos_tagger = PerceptronTagger()\n",
    "    pos_tagger.train(sentences=train_sents,save_loc=PICKLE)\n",
    "    print('Accuracy : ', pos_tagger.evaluate(test_sents))"
   ]
  },
  {
   "cell_type": "code",
   "execution_count": 9,
   "metadata": {},
   "outputs": [
    {
     "name": "stdout",
     "output_type": "stream",
     "text": [
      "Accuracy :  0.905536198219125\n"
     ]
    }
   ],
   "source": [
    "_get_pretrain_model()"
   ]
  },
  {
   "cell_type": "code",
   "execution_count": null,
   "metadata": {},
   "outputs": [],
   "source": []
  }
 ],
 "metadata": {
  "kernelspec": {
   "display_name": "Python 3",
   "language": "python",
   "name": "python3"
  },
  "language_info": {
   "codemirror_mode": {
    "name": "ipython",
    "version": 3
   },
   "file_extension": ".py",
   "mimetype": "text/x-python",
   "name": "python",
   "nbconvert_exporter": "python",
   "pygments_lexer": "ipython3",
   "version": "3.8.1"
  }
 },
 "nbformat": 4,
 "nbformat_minor": 4
}
